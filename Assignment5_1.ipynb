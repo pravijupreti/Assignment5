{
 "cells": [
  {
   "cell_type": "code",
   "execution_count": 1,
   "id": "9489408c-c9f9-4ee7-b12d-08fb89141388",
   "metadata": {},
   "outputs": [],
   "source": [
    "import numpy as np\n",
    "import matplotlib.pyplot as plt\n",
    "from sklearn.datasets import load_diabetes\n",
    "from sklearn.model_selection import train_test_split\n",
    "from sklearn.linear_model import LinearRegression\n",
    "from sklearn.metrics import mean_squared_error, r2_score"
   ]
  },
  {
   "cell_type": "code",
   "execution_count": 2,
   "id": "0b625a13-9b66-45d2-ae63-cbb6d20ee73c",
   "metadata": {},
   "outputs": [],
   "source": [
    "diabetes = load_diabetes()\n",
    "X, y = diabetes.data, diabetes.target\n",
    "feature_names = diabetes.feature_names"
   ]
  },
  {
   "cell_type": "code",
   "execution_count": 3,
   "id": "46dbdb15-db30-47a1-9e59-5c7ce3e12ab5",
   "metadata": {},
   "outputs": [],
   "source": [
    "X_base = X[:, [2, 5]]\n",
    "X_train, X_test, y_train, y_test = train_test_split(X_base, y, test_size=0.2, random_state=42)\n",
    "\n",
    "model_base = LinearRegression()\n",
    "model_base.fit(X_train, y_train)\n",
    "y_pred_base = model_base.predict(X_test)\n",
    "\n",
    "mse_base = mean_squared_error(y_test, y_pred_base)\n",
    "r2_base = r2_score(y_test, y_pred_base)"
   ]
  },
  {
   "cell_type": "code",
   "execution_count": 4,
   "id": "2670dea5-0cca-49f4-84aa-f5f221c23ef6",
   "metadata": {},
   "outputs": [],
   "source": [
    "X_extended = X[:, [2, 5, 3]]\n",
    "X_train_ext, X_test_ext, y_train_ext, y_test_ext = train_test_split(X_extended, y, test_size=0.2, random_state=42)\n",
    "\n",
    "model_extended = LinearRegression()\n",
    "model_extended.fit(X_train_ext, y_train_ext)\n",
    "y_pred_extended = model_extended.predict(X_test_ext)\n",
    "\n",
    "mse_extended = mean_squared_error(y_test_ext, y_pred_extended)\n",
    "r2_extended = r2_score(y_test_ext, y_pred_extended)"
   ]
  },
  {
   "cell_type": "code",
   "execution_count": 5,
   "id": "0b66c2dc-3c49-4a02-be65-cc49e3c32d98",
   "metadata": {},
   "outputs": [],
   "source": [
    "X_more_features = X[:, [2, 5, 3, 0, 1, 6]]\n",
    "X_train_more, X_test_more, y_train_more, y_test_more = train_test_split(X_more_features, y, test_size=0.2, random_state=42)\n",
    "\n",
    "model_more = LinearRegression()\n",
    "model_more.fit(X_train_more, y_train_more)\n",
    "y_pred_more = model_more.predict(X_test_more)\n",
    "\n",
    "mse_more = mean_squared_error(y_test_more, y_pred_more)\n",
    "r2_more = r2_score(y_test_more, y_pred_more)"
   ]
  },
  {
   "cell_type": "code",
   "execution_count": 6,
   "id": "c9d88df1-1d76-456b-be7c-e4b2bedf5f2b",
   "metadata": {},
   "outputs": [
    {
     "name": "stdout",
     "output_type": "stream",
     "text": [
      "Base Model - MSE: 4066.8238, R²: 0.2324\n",
      "Extended Model (with BP) - MSE: 3759.2538, R²: 0.2905\n",
      "More Features Model - MSE: 3519.7067, R²: 0.3357\n"
     ]
    }
   ],
   "source": [
    "print(f\"Base Model - MSE: {mse_base:.4f}, R²: {r2_base:.4f}\")\n",
    "print(f\"Extended Model (with BP) - MSE: {mse_extended:.4f}, R²: {r2_extended:.4f}\")\n",
    "print(f\"More Features Model - MSE: {mse_more:.4f}, R²: {r2_more:.4f}\")"
   ]
  },
  {
   "cell_type": "code",
   "execution_count": null,
   "id": "b36aaf09-6922-4f80-9bb5-4d6bdbcdd6cf",
   "metadata": {},
   "outputs": [],
   "source": []
  },
  {
   "cell_type": "code",
   "execution_count": null,
   "id": "7b71ff73-1fd8-40d2-a36a-2e1d1ee7ad50",
   "metadata": {},
   "outputs": [],
   "source": []
  },
  {
   "cell_type": "code",
   "execution_count": null,
   "id": "0c1df4ad-03a2-4ad6-a350-481892ba1cdc",
   "metadata": {},
   "outputs": [],
   "source": []
  },
  {
   "cell_type": "code",
   "execution_count": null,
   "id": "2e92ebc0-09cf-47cc-9977-2818b408d087",
   "metadata": {},
   "outputs": [],
   "source": []
  },
  {
   "cell_type": "code",
   "execution_count": null,
   "id": "23269760-a17e-401e-81ea-dc2ea8cef42f",
   "metadata": {},
   "outputs": [],
   "source": []
  },
  {
   "cell_type": "code",
   "execution_count": null,
   "id": "10d4ce19-7307-40d4-88da-92201f1a40b0",
   "metadata": {},
   "outputs": [],
   "source": []
  },
  {
   "cell_type": "code",
   "execution_count": null,
   "id": "e57b3f36-254f-4a76-9055-b37a5f8ffc34",
   "metadata": {},
   "outputs": [],
   "source": []
  }
 ],
 "metadata": {
  "kernelspec": {
   "display_name": "Python 3 (ipykernel)",
   "language": "python",
   "name": "python3"
  },
  "language_info": {
   "codemirror_mode": {
    "name": "ipython",
    "version": 3
   },
   "file_extension": ".py",
   "mimetype": "text/x-python",
   "name": "python",
   "nbconvert_exporter": "python",
   "pygments_lexer": "ipython3",
   "version": "3.12.3"
  }
 },
 "nbformat": 4,
 "nbformat_minor": 5
}
